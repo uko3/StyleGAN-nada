{
  "metadata": {
    "kernelspec": {
      "name": "python3",
      "display_name": "Python 3"
    },
    "language_info": {
      "name": "python",
      "version": "3.11.13",
      "mimetype": "text/x-python",
      "codemirror_mode": {
        "name": "ipython",
        "version": 3
      },
      "pygments_lexer": "ipython3",
      "nbconvert_exporter": "python",
      "file_extension": ".py"
    },
    "colab": {
      "provenance": [],
      "gpuType": "T4"
    },
    "accelerator": "GPU",
    "kaggle": {
      "accelerator": "nvidiaTeslaT4",
      "dataSources": [],
      "isInternetEnabled": true,
      "language": "python",
      "sourceType": "notebook",
      "isGpuEnabled": true
    }
  },
  "nbformat_minor": 0,
  "nbformat": 4,
  "cells": [
    {
      "cell_type": "code",
      "source": [
        "# %cd /content #\n",
        "!git clone https://github.com/uko3/StyleGAN-nada.git\n",
        "# %cd stylegan2-pytorch\n",
        "!pip install Ninja\n",
        "!pip install git+https://github.com/openai/CLIP.git -q\n",
        "!pip install dlib\n",
        "\n",
        "# Создание папки для dlib моделей (если ее нет) и скачивание\n",
        "%mkdir -p dlib_models\n",
        "!gdown http://dlib.net/files/shape_predictor_68_face_landmarks.dat.bz2 -O dlib_models/shape_predictor_68_face_landmarks.dat.bz2\n",
        "!bzip2 -dk dlib_models/shape_predictor_68_face_landmarks.dat.bz2\n",
        "\n",
        "\n",
        "# %cd .. #\n",
        "\n",
        "# Создание структуры папок, если она еще не существует\n",
        "%mkdir -p pretrained_models\n",
        "# %mkdir -p data/inversion\n",
        "\n",
        "# Импорты\n",
        "import os\n",
        "import torch\n",
        "import numpy as np\n",
        "import matplotlib.pyplot as plt\n",
        "from PIL import Image\n",
        "from argparse import Namespace\n",
        "from torchvision import transforms\n",
        "import dlib\n",
        "import copy\n",
        "\n",
        "# Переходим в директорию StyleGAN-nada для импорта внутренних модулей\n",
        "%cd StyleGAN-nada\n",
        "\n",
        "# Импортируем наши собственные модули\n",
        "from modules.stylegan_arch.model import Generator\n",
        "\n",
        "# from modules.utils import align_face, run_on_batch #\n",
        "from modules.utils import run_on_batch #\n",
        "\n",
        "# Зададим девайс\n",
        "device = \"cuda\" if torch.cuda.is_available() else \"cpu\"\n",
        "print(f\"Используется устройство: {device}\")"
      ],
      "metadata": {
        "trusted": true,
        "id": "8Apoa4i3uRU-"
      },
      "outputs": [],
      "execution_count": null
    },
    {
      "cell_type": "code",
      "source": [
        "%cd ..\n",
        "!gdown https://drive.google.com/uc?id=12C0H-SE6ovcjlXruZNEO5sJhc9kDybAH -O pretrained_models/my_custom_stylegan_generator.pth"
      ],
      "metadata": {
        "trusted": true,
        "id": "359ZjQBruRU-"
      },
      "outputs": [],
      "execution_count": null
    },
    {
      "cell_type": "code",
      "source": [
        "# Загрузка StyleGAN-NADA Generator ()\n",
        "size = 1024\n",
        "latent_dim = 512\n",
        "n_mlp = 8\n",
        "channel_multiplier = 2\n",
        "# custom_stylegan_generator_filename = 'my_custom_stylegan_generator_1.pth'\n",
        "\n",
        "# trained_model_path = os.path.join(\"pretrained_models\", custom_stylegan_generator_filename)\n",
        "# trained_model_path = os.path.join(\"/kaggle/working/pretrained_models\", custom_stylegan_generator_filename)\n",
        "trained_model_path = \"/kaggle/working/pretrained_models/my_custom_stylegan_generator_1.pth\"\n",
        "custom_generator = Generator(size, latent_dim, n_mlp, channel_multiplier=channel_multiplier).to(device)\n",
        "custom_generator.to(device).eval() # Переводим в режим инференса\n",
        "\n",
        "if os.path.exists(trained_model_path):\n",
        "    # Если обученная модель сохранена как просто state_dict (веса модели)\n",
        "    # custom_generator.load_state_dict(torch.load(trained_model_path, map_location=device))\n",
        "    # Если обученная модель сохранена как чекпоинт со словарем {'g_ema': state_dict}\n",
        "    checkpoint = torch.load(trained_model_path, map_location=device)\n",
        "    if \"g_ema\" in checkpoint:\n",
        "        custom_generator.load_state_dict(checkpoint[\"g_ema\"])\n",
        "        print(f\"Обученная модель StyleGAN-NADA загружена из {trained_model_path} (из g_ema).\")\n",
        "    else:\n",
        "        #\n",
        "        custom_generator.load_state_dict(checkpoint) # Попытка загрузить напрямую\n",
        "        print(f\"Обученная модель StyleGAN-NADA загружена из {trained_model_path} (прямая загрузка).\")\n",
        "\n",
        "else:\n",
        "    print(f\"Ошибка: Обученная модель по пути {trained_model_path} не найдена. Убедитесь, что она была сохранена после обучения.\")\n",
        "\n",
        "\n",
        "# Define image transformations for pSp\n",
        "transform = transforms.Compose([\n",
        "    transforms.Resize((256, 256)), # pSp обычно принимает 256x256\n",
        "    transforms.ToTensor(),\n",
        "    transforms.Normalize([0.5, 0.5, 0.5], [0.5, 0.5, 0.5]) # Нормализация в [-1, 1]\n",
        "])"
      ],
      "metadata": {
        "trusted": true,
        "execution": {
          "iopub.status.busy": "2025-07-13T15:20:29.335410Z",
          "iopub.execute_input": "2025-07-13T15:20:29.335800Z",
          "iopub.status.idle": "2025-07-13T15:20:30.026621Z",
          "shell.execute_reply.started": "2025-07-13T15:20:29.335776Z",
          "shell.execute_reply": "2025-07-13T15:20:30.025828Z"
        },
        "id": "RNQqT23FuRU-"
      },
      "outputs": [],
      "execution_count": null
    },
    {
      "cell_type": "code",
      "source": [
        "# второй\n",
        "\n",
        "# Загрузка StyleGAN-NADA генераторов\n",
        "size = 1024 # Выходной размер StyleGAN\n",
        "latent_dim = 512\n",
        "n_mlp = 8\n",
        "channel_multiplier = 2\n",
        "\n",
        "loaded_generators = {}\n",
        "for name, filename in stylegan_nada_generators.items():\n",
        "    # model_path = os.path.join(\"pretrained_models\", filename) 111\n",
        "    model_path = os.path.join(\"/kaggle/working/pretrained_models/\", name)\n",
        "    gen = Generator(size, latent_dim, n_mlp, channel_multiplier=channel_multiplier).to(device)\n",
        "    gen.eval()\n",
        "\n",
        "    if os.path.exists(model_path):\n",
        "        checkpoint = torch.load(model_path, map_location=device)\n",
        "        if \"g_ema\" in checkpoint:\n",
        "            gen.load_state_dict(checkpoint[\"g_ema\"])\n",
        "            print(f\"Генератор {name} загружен из {filename} (из g_ema).\")\n",
        "        else:\n",
        "            gen.load_state_dict(checkpoint)\n",
        "            print(f\"Генератор {name} загружен из {filename} (прямая загрузка).\")\n",
        "        loaded_generators[name] = gen\n",
        "    else:\n",
        "        print(f\"ПРЕДУПРЕЖДЕНИЕ: Генератор {name} по пути {model_path} не найден и не будет загружен.\")\n",
        "\n",
        "# Загрузка pSp (encoder4editing) модели\n",
        "net_psp = None\n",
        "try:\n",
        "    ckpt_psp = torch.load(psp_model_path, map_location=\"cpu\")\n",
        "    opts_dict = ckpt_psp[\"opts\"]\n",
        "    opts_dict[\"checkpoint_path\"] = psp_model_path\n",
        "    opts = Namespace(**opts_dict)\n",
        "\n",
        "    net_psp = pSp(opts).to(device)\n",
        "    net_psp.eval()\n",
        "    net_psp.load_state_dict(ckpt_psp['state_dict'], strict=False)\n",
        "    print(\"Модель pSp (энкодер) успешно загружена!\")\n",
        "except Exception as e:\n",
        "    print(f\"ОШИБКА: Не удалось загрузить модель pSp. Проверьте путь и файл: {e}\")\n",
        "    net_psp = None"
      ],
      "metadata": {
        "trusted": true,
        "execution": {
          "iopub.status.busy": "2025-07-13T14:19:33.362234Z",
          "iopub.execute_input": "2025-07-13T14:19:33.362646Z",
          "iopub.status.idle": "2025-07-13T14:19:39.373904Z",
          "shell.execute_reply.started": "2025-07-13T14:19:33.362621Z",
          "shell.execute_reply": "2025-07-13T14:19:39.373158Z"
        },
        "id": "o5XyXlycuRU-"
      },
      "outputs": [],
      "execution_count": null
    },
    {
      "cell_type": "code",
      "source": [
        "print(\"\\n--- Генерация случайных изображений из StyleGAN-NADA ---\")\n",
        "samples = 1\n",
        "with torch.no_grad():\n",
        "    custom_generator.to(device).eval()\n",
        "    sample_z = torch.randn(samples, latent_dim, device=device)\n",
        "    sample_w = custom_generator.style(sample_z) # Получаем W из Z\n",
        "    sample_w_plus = sample_w.unsqueeze(1).repeat(1, custom_generator.n_latent, 1) # Преобразуем в W+ (18 слоев)\n",
        "\n",
        "    # Генерируем изображения\n",
        "    generated_images, _ = custom_generator([sample_w_plus], input_is_latent=True, randomize_noise=False)\n",
        "\n",
        "    # Отображаем сгенерированные изображения\n",
        "    fig, axes = plt.subplots(3, 3, figsize=(10, 10))\n",
        "    axes = axes.flatten()\n",
        "    for i, img_tensor in enumerate(generated_images):\n",
        "        img_np = (img_tensor.detach().cpu().clamp(-1, 1) + 1) / 2 # Нормализация в [0, 1]\n",
        "        img_np = img_np.permute(1, 2, 0).numpy() #\n",
        "        axes[i].imshow(img_np)\n",
        "        axes[i].axis('off')\n",
        "    plt.suptitle(\"Случайно сгенерированные изображения StyleGAN-NADA\")\n",
        "    plt.tight_layout(rect=[0, 0.03, 1, 0.95])\n",
        "    plt.show()\n",
        "\n",
        "print(\"Сгенерированы и выведены случайные изображения.\")"
      ],
      "metadata": {
        "trusted": true,
        "execution": {
          "iopub.status.busy": "2025-07-13T15:21:07.942804Z",
          "iopub.execute_input": "2025-07-13T15:21:07.943515Z",
          "iopub.status.idle": "2025-07-13T15:21:10.048030Z",
          "shell.execute_reply.started": "2025-07-13T15:21:07.943492Z",
          "shell.execute_reply": "2025-07-13T15:21:10.047210Z"
        },
        "id": "WxqKQ_wLuRVO"
      },
      "outputs": [],
      "execution_count": null
    }
  ]
}